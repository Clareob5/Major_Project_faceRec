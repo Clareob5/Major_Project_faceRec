{
 "cells": [
  {
   "cell_type": "code",
   "execution_count": 1,
   "id": "59f6ee7e",
   "metadata": {},
   "outputs": [],
   "source": [
    "from keras.preprocessing.image import ImageDataGenerator"
   ]
  },
  {
   "cell_type": "code",
   "execution_count": 2,
   "id": "6b3bf45f",
   "metadata": {},
   "outputs": [
    {
     "name": "stdout",
     "output_type": "stream",
     "text": [
      "Found 1712 images belonging to 43 classes.\n",
      "Found 697 images belonging to 43 classes.\n"
     ]
    },
    {
     "data": {
      "text/plain": [
       "{'Akhmed_Zakayev': 0,\n",
       " 'Amelia_Vega': 1,\n",
       " 'Ana_Palacio': 2,\n",
       " 'Anders_Fogh_Rasmussen': 3,\n",
       " 'Andre_Agassi': 4,\n",
       " 'Angela_Bassett': 5,\n",
       " 'Clare': 6,\n",
       " 'Dale_Earnhardt_Jr': 7,\n",
       " 'Edmund_Stoiber': 8,\n",
       " 'Gregg_Popovich': 9,\n",
       " 'Jacques_Rogge': 10,\n",
       " 'Jimmy_Carter': 11,\n",
       " 'Juan_Pablo_Montoya': 12,\n",
       " 'Kim_Clijsters': 13,\n",
       " 'Lance_Armstrong': 14,\n",
       " 'Lleyton_Hewitt': 15,\n",
       " 'Maria_Soledad_Alvear_Valenzuela': 16,\n",
       " 'Mark_Philippoussis': 17,\n",
       " 'Megawati_Sukarnoputri': 18,\n",
       " 'Michael_Bloomberg': 19,\n",
       " 'Nestor_Kirchner': 20,\n",
       " 'Paul_Bremer': 21,\n",
       " 'Pervez_Musharraf': 22,\n",
       " 'Rick_Perry': 23,\n",
       " 'Tommy_Thompson': 24,\n",
       " 'Vaclav_Havel': 25,\n",
       " 'Vincent_Brooks': 26,\n",
       " 'face1': 27,\n",
       " 'face10': 28,\n",
       " 'face11': 29,\n",
       " 'face12': 30,\n",
       " 'face13': 31,\n",
       " 'face14': 32,\n",
       " 'face15': 33,\n",
       " 'face16': 34,\n",
       " 'face2': 35,\n",
       " 'face3': 36,\n",
       " 'face4': 37,\n",
       " 'face5': 38,\n",
       " 'face6': 39,\n",
       " 'face7': 40,\n",
       " 'face8': 41,\n",
       " 'face9': 42}"
      ]
     },
     "execution_count": 2,
     "metadata": {},
     "output_type": "execute_result"
    }
   ],
   "source": [
    "#Setting the training and test path for the images\n",
    "TrainingImagePath='../Face Images/Final Training Images'\n",
    "TestingImagePath='../Face Images/Final Testing Images'\n",
    "\n",
    "\n",
    "#adding final manipulations to all data\n",
    "train_datagen = ImageDataGenerator(\n",
    "        shear_range=0.1,\n",
    "        zoom_range=0.1,\n",
    "        horizontal_flip=True)\n",
    "\n",
    "\n",
    "test_datagen = ImageDataGenerator(\n",
    "        shear_range=0.1,\n",
    "        zoom_range=0.1,\n",
    "        horizontal_flip=True)\n",
    "\n",
    "\n",
    "training_set = train_datagen.flow_from_directory(\n",
    "        TrainingImagePath,\n",
    "        target_size=(100,100),\n",
    "        batch_size=32,\n",
    "        class_mode='categorical')\n",
    "\n",
    "\n",
    "test_set = test_datagen.flow_from_directory(\n",
    "        TestingImagePath,\n",
    "        target_size=(100, 100),\n",
    "        batch_size=32,\n",
    "        class_mode='categorical')\n",
    "\n",
    "# Printing class labels for each face\n",
    "test_set.class_indices"
   ]
  },
  {
   "cell_type": "markdown",
   "id": "b9ceb688",
   "metadata": {},
   "source": [
    "Creating a table of all the faces with ids. This will be used for identifying the correct result."
   ]
  },
  {
   "cell_type": "code",
   "execution_count": 16,
   "id": "44cfdd4e",
   "metadata": {},
   "outputs": [
    {
     "name": "stdout",
     "output_type": "stream",
     "text": [
      "Mapping of Face and its ID {0: 'Akhmed_Zakayev', 1: 'Amelia_Vega', 2: 'Ana_Palacio', 3: 'Anders_Fogh_Rasmussen', 4: 'Andre_Agassi', 5: 'Angela_Bassett', 6: 'Clare', 7: 'Dale_Earnhardt_Jr', 8: 'Edmund_Stoiber', 9: 'Gregg_Popovich', 10: 'Jacques_Rogge', 11: 'Jimmy_Carter', 12: 'Juan_Pablo_Montoya', 13: 'Kim_Clijsters', 14: 'Lance_Armstrong', 15: 'Lleyton_Hewitt', 16: 'Maria_Soledad_Alvear_Valenzuela', 17: 'Mark_Philippoussis', 18: 'Megawati_Sukarnoputri', 19: 'Michael_Bloomberg', 20: 'Nestor_Kirchner', 21: 'Paul_Bremer', 22: 'Pervez_Musharraf', 23: 'Rick_Perry', 24: 'Tommy_Thompson', 25: 'Vaclav_Havel', 26: 'Vincent_Brooks', 27: 'face1', 28: 'face10', 29: 'face11', 30: 'face12', 31: 'face13', 32: 'face14', 33: 'face15', 34: 'face16', 35: 'face2', 36: 'face3', 37: 'face4', 38: 'face5', 39: 'face6', 40: 'face7', 41: 'face8', 42: 'face9'}\n",
      "\n",
      " The Number of output neurons:  43\n"
     ]
    }
   ],
   "source": [
    "# class_indices have the numeric tag for each face\n",
    "TrainClasses=training_set.class_indices\n",
    "\n",
    "# Storing the face and the numeric tag for future reference\n",
    "PersonMap={}\n",
    "for faceValue,faceName in zip(TrainClasses.values(),TrainClasses.keys()):\n",
    "    PersonMap[faceValue]=faceName\n",
    "\n",
    "# Saving the face map for future reference\n",
    "import pickle\n",
    "with open(\"facesMap.pkl\", 'wb') as fileWriteStream:\n",
    "    pickle.dump(PersonMap, fileWriteStream)\n",
    "\n",
    "# The model will give answer as a numeric tag\n",
    "# This mapping will help to get the corresponding face name for it\n",
    "print(\"Mapping of Face and its ID\",PersonMap)\n",
    "\n",
    "# The number of neurons for the output layer is equal to the number of faces\n",
    "OutputNeurons=len(PersonMap)\n",
    "print('\\n The Number of output neurons: ', OutputNeurons)"
   ]
  },
  {
   "cell_type": "code",
   "execution_count": 5,
   "id": "2bba97e9",
   "metadata": {
    "scrolled": true
   },
   "outputs": [
    {
     "name": "stderr",
     "output_type": "stream",
     "text": [
      "C:\\Users\\clare\\AppData\\Local\\Temp/ipykernel_23920/3415127794.py:33: UserWarning: `Model.fit_generator` is deprecated and will be removed in a future version. Please use `Model.fit`, which supports generators.\n",
      "  model.fit_generator(\n"
     ]
    },
    {
     "name": "stdout",
     "output_type": "stream",
     "text": [
      "Epoch 1/18\n",
      "54/54 [==============================] - 20s 362ms/step - loss: 11.6643 - accuracy: 0.0929 - val_loss: 3.3503 - val_accuracy: 0.1094\n",
      "Epoch 2/18\n",
      "54/54 [==============================] - 23s 427ms/step - loss: 2.2484 - accuracy: 0.4065 - val_loss: 2.9366 - val_accuracy: 0.2875\n",
      "Epoch 3/18\n",
      "54/54 [==============================] - 23s 422ms/step - loss: 1.4513 - accuracy: 0.6151 - val_loss: 2.6041 - val_accuracy: 0.2750\n",
      "Epoch 4/18\n",
      "54/54 [==============================] - 20s 377ms/step - loss: 1.0944 - accuracy: 0.7044 - val_loss: 2.1394 - val_accuracy: 0.4812\n",
      "Epoch 5/18\n",
      "54/54 [==============================] - 22s 403ms/step - loss: 0.7737 - accuracy: 0.7938 - val_loss: 2.1876 - val_accuracy: 0.4969\n",
      "Epoch 6/18\n",
      "54/54 [==============================] - 21s 392ms/step - loss: 0.5678 - accuracy: 0.8259 - val_loss: 1.8610 - val_accuracy: 0.5844\n",
      "Epoch 7/18\n",
      "54/54 [==============================] - 23s 431ms/step - loss: 0.5231 - accuracy: 0.8411 - val_loss: 2.1946 - val_accuracy: 0.6187\n",
      "Epoch 8/18\n",
      "54/54 [==============================] - 23s 432ms/step - loss: 0.4155 - accuracy: 0.8633 - val_loss: 1.6337 - val_accuracy: 0.6875\n",
      "Epoch 9/18\n",
      "54/54 [==============================] - 22s 409ms/step - loss: 0.3871 - accuracy: 0.8680 - val_loss: 2.4506 - val_accuracy: 0.5969\n",
      "Epoch 10/18\n",
      "54/54 [==============================] - 21s 394ms/step - loss: 0.3249 - accuracy: 0.8972 - val_loss: 2.2077 - val_accuracy: 0.5656\n",
      "Epoch 11/18\n",
      "54/54 [==============================] - 24s 446ms/step - loss: 0.2946 - accuracy: 0.9106 - val_loss: 2.4350 - val_accuracy: 0.6094\n",
      "Epoch 12/18\n",
      "54/54 [==============================] - 34s 633ms/step - loss: 0.2409 - accuracy: 0.9229 - val_loss: 2.0428 - val_accuracy: 0.6875\n",
      "Epoch 13/18\n",
      "54/54 [==============================] - 27s 494ms/step - loss: 0.2237 - accuracy: 0.9264 - val_loss: 1.9563 - val_accuracy: 0.7063\n",
      "Epoch 14/18\n",
      "54/54 [==============================] - 22s 405ms/step - loss: 0.2334 - accuracy: 0.9223 - val_loss: 2.2822 - val_accuracy: 0.6906\n",
      "Epoch 15/18\n",
      "54/54 [==============================] - 22s 412ms/step - loss: 0.1948 - accuracy: 0.9200 - val_loss: 1.6356 - val_accuracy: 0.7125\n",
      "Epoch 16/18\n",
      "54/54 [==============================] - 20s 372ms/step - loss: 0.2033 - accuracy: 0.9317 - val_loss: 1.3604 - val_accuracy: 0.7156\n",
      "Epoch 17/18\n",
      "54/54 [==============================] - 21s 394ms/step - loss: 0.1419 - accuracy: 0.9451 - val_loss: 2.1867 - val_accuracy: 0.7406\n",
      "Epoch 18/18\n",
      "54/54 [==============================] - 22s 405ms/step - loss: 0.1272 - accuracy: 0.9509 - val_loss: 1.6885 - val_accuracy: 0.7469\n",
      "###### Total Time Taken:  7 Minutes ######\n"
     ]
    }
   ],
   "source": [
    "from keras.models import Sequential\n",
    "from keras.layers import Convolution2D\n",
    "from keras.layers import MaxPool2D\n",
    "from keras.layers import Flatten\n",
    "from keras.layers import Dense, Dropout\n",
    "\n",
    "epochs = 18\n",
    "steps = 54\n",
    "val_steps = 10\n",
    "\n",
    "model= Sequential()\n",
    "\n",
    "model.add(Convolution2D(32, kernel_size=(3, 3), strides=(1, 1), input_shape=(100,100,3), activation='relu'))\n",
    "model.add(MaxPool2D(pool_size=(2,2)))\n",
    "model.add(Convolution2D(64, kernel_size=(3, 3), strides=(1, 1), activation='relu'))\n",
    "\n",
    "model.add(MaxPool2D(pool_size=(2,2)))\n",
    "model.add(Convolution2D(128, kernel_size=(3, 3), strides=(1, 1), activation='relu'))\n",
    "\n",
    "model.add(MaxPool2D(pool_size=(2,2)))\n",
    "model.add(Flatten())\n",
    "model.add(Dense(128, activation='relu'))\n",
    "model.add(Dense(64, activation='relu'))\n",
    "model.add(Dense(OutputNeurons, activation='softmax'))\n",
    "\n",
    "model.compile(loss='categorical_crossentropy', optimizer = 'adam', metrics=[\"accuracy\"])\n",
    "\n",
    "import time\n",
    "# Measuring the time taken by the model to train\n",
    "StartTime=time.time()\n",
    "\n",
    "# Starting the model training\n",
    "model.fit_generator(\n",
    "                    training_set,\n",
    "                    steps_per_epoch=steps,\n",
    "                    epochs=epochs,\n",
    "                    validation_data=test_set,\n",
    "                    validation_steps=val_steps)\n",
    "\n",
    "EndTime=time.time()\n",
    "print(\"Total Time Taken: \", round((EndTime-StartTime)/60), 'Minutes')\n"
   ]
  },
  {
   "cell_type": "code",
   "execution_count": 6,
   "id": "4ed54809",
   "metadata": {
    "scrolled": false
   },
   "outputs": [
    {
     "name": "stdout",
     "output_type": "stream",
     "text": [
      "Model: \"sequential_1\"\n",
      "_________________________________________________________________\n",
      " Layer (type)                Output Shape              Param #   \n",
      "=================================================================\n",
      " conv2d_3 (Conv2D)           (None, 98, 98, 32)        896       \n",
      "                                                                 \n",
      " max_pooling2d_3 (MaxPooling  (None, 49, 49, 32)       0         \n",
      " 2D)                                                             \n",
      "                                                                 \n",
      " conv2d_4 (Conv2D)           (None, 47, 47, 64)        18496     \n",
      "                                                                 \n",
      " max_pooling2d_4 (MaxPooling  (None, 23, 23, 64)       0         \n",
      " 2D)                                                             \n",
      "                                                                 \n",
      " conv2d_5 (Conv2D)           (None, 21, 21, 128)       73856     \n",
      "                                                                 \n",
      " max_pooling2d_5 (MaxPooling  (None, 10, 10, 128)      0         \n",
      " 2D)                                                             \n",
      "                                                                 \n",
      " flatten_1 (Flatten)         (None, 12800)             0         \n",
      "                                                                 \n",
      " dense_3 (Dense)             (None, 128)               1638528   \n",
      "                                                                 \n",
      " dense_4 (Dense)             (None, 64)                8256      \n",
      "                                                                 \n",
      " dense_5 (Dense)             (None, 43)                2795      \n",
      "                                                                 \n",
      "=================================================================\n",
      "Total params: 1,742,827\n",
      "Trainable params: 1,742,827\n",
      "Non-trainable params: 0\n",
      "_________________________________________________________________\n"
     ]
    }
   ],
   "source": [
    "model.summary()"
   ]
  },
  {
   "cell_type": "code",
   "execution_count": 7,
   "id": "7f3f7828",
   "metadata": {},
   "outputs": [],
   "source": [
    "import keras\n",
    "\n",
    "model.save('finetuned_model.h5')\n"
   ]
  },
  {
   "cell_type": "code",
   "execution_count": 9,
   "id": "40338de2",
   "metadata": {
    "scrolled": true
   },
   "outputs": [],
   "source": [
    "model_cnn = keras.models.load_model(\"finetuned_model.h5\")"
   ]
  },
  {
   "cell_type": "code",
   "execution_count": 18,
   "id": "b9b5e713",
   "metadata": {},
   "outputs": [
    {
     "name": "stdout",
     "output_type": "stream",
     "text": [
      "Prediction is:  Angela_Bassett\n"
     ]
    }
   ],
   "source": [
    "import numpy as np\n",
    "from keras.preprocessing import image\n",
    "\n",
    "ImagePath='../Face Images/Final Testing Images/Angela_Bassett/Angela_Bassett_0006.jpg'\n",
    "test_image=image.load_img(ImagePath,target_size=(100, 100))\n",
    "test_image=image.img_to_array(test_image)\n",
    "\n",
    "test_image= np.expand_dims(test_image,axis=0)\n",
    "\n",
    "result= model_cnn.predict(test_image,verbose=0)\n",
    "#print(training_set.class_indices)\n",
    "\n",
    "print('Prediction is: ',PersonMap[np.argmax(result)])"
   ]
  },
  {
   "cell_type": "markdown",
   "id": "703f6d66",
   "metadata": {},
   "source": [
    "## Below are the other models that were trained"
   ]
  },
  {
   "cell_type": "code",
   "execution_count": 27,
   "id": "0c8e22c1",
   "metadata": {},
   "outputs": [
    {
     "name": "stdout",
     "output_type": "stream",
     "text": [
      "Epoch 1/18\n"
     ]
    },
    {
     "name": "stderr",
     "output_type": "stream",
     "text": [
      "C:\\Users\\N00180~1\\AppData\\Local\\Temp/ipykernel_14496/2134870458.py:27: UserWarning: `Model.fit_generator` is deprecated and will be removed in a future version. Please use `Model.fit`, which supports generators.\n",
      "  model.fit_generator(\n"
     ]
    },
    {
     "name": "stdout",
     "output_type": "stream",
     "text": [
      "50/50 [==============================] - 10s 187ms/step - loss: 7.2437 - accuracy: 0.0952 - val_loss: 3.4198 - val_accuracy: 0.0833\n",
      "Epoch 2/18\n",
      "50/50 [==============================] - 9s 182ms/step - loss: 2.7943 - accuracy: 0.2749 - val_loss: 3.0653 - val_accuracy: 0.1646\n",
      "Epoch 3/18\n",
      "50/50 [==============================] - 9s 182ms/step - loss: 2.1116 - accuracy: 0.4615 - val_loss: 2.9755 - val_accuracy: 0.2646\n",
      "Epoch 4/18\n",
      "50/50 [==============================] - 9s 184ms/step - loss: 1.5999 - accuracy: 0.5817 - val_loss: 2.6959 - val_accuracy: 0.3396\n",
      "Epoch 5/18\n",
      "50/50 [==============================] - 9s 183ms/step - loss: 1.2168 - accuracy: 0.6894 - val_loss: 2.6903 - val_accuracy: 0.3313\n",
      "Epoch 6/18\n",
      "50/50 [==============================] - 9s 182ms/step - loss: 1.0686 - accuracy: 0.7113 - val_loss: 2.5947 - val_accuracy: 0.4104\n",
      "Epoch 7/18\n",
      "50/50 [==============================] - 9s 184ms/step - loss: 0.8694 - accuracy: 0.7652 - val_loss: 2.9204 - val_accuracy: 0.4271\n",
      "Epoch 8/18\n",
      "50/50 [==============================] - 9s 183ms/step - loss: 0.7743 - accuracy: 0.7884 - val_loss: 2.6560 - val_accuracy: 0.5104\n",
      "Epoch 9/18\n",
      "50/50 [==============================] - 9s 185ms/step - loss: 0.7287 - accuracy: 0.8025 - val_loss: 2.7597 - val_accuracy: 0.4292\n",
      "Epoch 10/18\n",
      "50/50 [==============================] - 9s 183ms/step - loss: 0.5862 - accuracy: 0.8397 - val_loss: 2.4223 - val_accuracy: 0.5063\n",
      "Epoch 11/18\n",
      "50/50 [==============================] - 9s 182ms/step - loss: 0.5319 - accuracy: 0.8447 - val_loss: 2.3902 - val_accuracy: 0.5542\n",
      "Epoch 12/18\n",
      "50/50 [==============================] - 9s 182ms/step - loss: 0.4226 - accuracy: 0.8766 - val_loss: 2.8108 - val_accuracy: 0.5271\n",
      "Epoch 13/18\n",
      "50/50 [==============================] - 9s 182ms/step - loss: 0.5068 - accuracy: 0.8566 - val_loss: 2.9626 - val_accuracy: 0.5125\n",
      "Epoch 14/18\n",
      "50/50 [==============================] - 9s 183ms/step - loss: 0.4231 - accuracy: 0.8785 - val_loss: 2.4749 - val_accuracy: 0.5833\n",
      "Epoch 15/18\n",
      "50/50 [==============================] - 9s 182ms/step - loss: 0.3521 - accuracy: 0.9042 - val_loss: 2.7383 - val_accuracy: 0.5958\n",
      "Epoch 16/18\n",
      "50/50 [==============================] - 9s 182ms/step - loss: 0.3964 - accuracy: 0.8785 - val_loss: 3.8829 - val_accuracy: 0.5021\n",
      "Epoch 17/18\n",
      "50/50 [==============================] - 9s 185ms/step - loss: 0.3356 - accuracy: 0.9042 - val_loss: 2.5660 - val_accuracy: 0.6125\n",
      "Epoch 18/18\n",
      "50/50 [==============================] - 9s 183ms/step - loss: 0.2531 - accuracy: 0.9173 - val_loss: 3.4169 - val_accuracy: 0.5688\n",
      "###### Total Time Taken:  3 Minutes ######\n"
     ]
    }
   ],
   "source": [
    "from keras.models import Sequential\n",
    "from keras.layers import Convolution2D\n",
    "from keras.layers import MaxPool2D\n",
    "from keras.layers import Flatten\n",
    "from keras.layers import Dense, Dropout\n",
    "\n",
    "model= Sequential()\n",
    "\n",
    "model.add(Convolution2D(32, kernel_size=(4, 4), strides=(1, 1), input_shape=(64,64,3), activation='relu'))\n",
    "model.add(MaxPool2D(pool_size=(2,2)))\n",
    "model.add(Convolution2D(32, kernel_size=(4, 4), strides=(1, 1), activation='relu'))\n",
    "\n",
    "model.add(MaxPool2D(pool_size=(2,2)))\n",
    "\n",
    "model.add(Flatten())\n",
    "model.add(Dense(64, activation='relu'))\n",
    "model.add(Dense(32, activation='relu'))\n",
    "model.add(Dense(OutputNeurons, activation='softmax'))\n",
    "\n",
    "model.compile(loss='categorical_crossentropy', optimizer = 'adam', metrics=[\"accuracy\"])\n",
    "\n",
    "import time\n",
    "# Measuring the time taken by the model to train\n",
    "StartTime=time.time()\n",
    "\n",
    "# Starting the model training\n",
    "model.fit_generator(\n",
    "                    training_set,\n",
    "                    steps_per_epoch=50,\n",
    "                    epochs=18,\n",
    "                    validation_data=test_set,\n",
    "                    validation_steps=15)\n",
    "\n",
    "EndTime=time.time()\n",
    "print(\"###### Total Time Taken: \", round((EndTime-StartTime)/60), 'Minutes ######')\n"
   ]
  },
  {
   "cell_type": "code",
   "execution_count": 7,
   "id": "9bb56ff3",
   "metadata": {},
   "outputs": [
    {
     "name": "stdout",
     "output_type": "stream",
     "text": [
      "Model: \"sequential\"\n",
      "_________________________________________________________________\n",
      " Layer (type)                Output Shape              Param #   \n",
      "=================================================================\n",
      " conv2d (Conv2D)             (None, 62, 62, 32)        896       \n",
      "                                                                 \n",
      " max_pooling2d (MaxPooling2D  (None, 31, 31, 32)       0         \n",
      " )                                                               \n",
      "                                                                 \n",
      " conv2d_1 (Conv2D)           (None, 29, 29, 64)        18496     \n",
      "                                                                 \n",
      " conv2d_2 (Conv2D)           (None, 27, 27, 64)        36928     \n",
      "                                                                 \n",
      " max_pooling2d_1 (MaxPooling  (None, 13, 13, 64)       0         \n",
      " 2D)                                                             \n",
      "                                                                 \n",
      " conv2d_3 (Conv2D)           (None, 11, 11, 128)       73856     \n",
      "                                                                 \n",
      " max_pooling2d_2 (MaxPooling  (None, 5, 5, 128)        0         \n",
      " 2D)                                                             \n",
      "                                                                 \n",
      " flatten (Flatten)           (None, 3200)              0         \n",
      "                                                                 \n",
      " dense (Dense)               (None, 128)               409728    \n",
      "                                                                 \n",
      " dense_1 (Dense)             (None, 64)                8256      \n",
      "                                                                 \n",
      " dense_2 (Dense)             (None, 42)                2730      \n",
      "                                                                 \n",
      "=================================================================\n",
      "Total params: 550,890\n",
      "Trainable params: 550,890\n",
      "Non-trainable params: 0\n",
      "_________________________________________________________________\n"
     ]
    }
   ],
   "source": [
    "model.summary()"
   ]
  },
  {
   "cell_type": "code",
   "execution_count": 28,
   "id": "209120a4",
   "metadata": {},
   "outputs": [
    {
     "name": "stdout",
     "output_type": "stream",
     "text": [
      "Epoch 1/18\n"
     ]
    },
    {
     "name": "stderr",
     "output_type": "stream",
     "text": [
      "C:\\Users\\N00180~1\\AppData\\Local\\Temp/ipykernel_14496/698799155.py:28: UserWarning: `Model.fit_generator` is deprecated and will be removed in a future version. Please use `Model.fit`, which supports generators.\n",
      "  model.fit_generator(\n"
     ]
    },
    {
     "name": "stdout",
     "output_type": "stream",
     "text": [
      "51/51 [==============================] - 10s 190ms/step - loss: 0.4257 - accuracy: 0.0301 - val_loss: 0.1411 - val_accuracy: 0.0646\n",
      "Epoch 2/18\n",
      "51/51 [==============================] - 9s 185ms/step - loss: 0.1207 - accuracy: 0.1080 - val_loss: 0.1215 - val_accuracy: 0.1167\n",
      "Epoch 3/18\n",
      "51/51 [==============================] - 10s 187ms/step - loss: 0.1036 - accuracy: 0.2044 - val_loss: 0.1082 - val_accuracy: 0.1625\n",
      "Epoch 4/18\n",
      "51/51 [==============================] - 10s 186ms/step - loss: 0.0843 - accuracy: 0.3935 - val_loss: 0.1065 - val_accuracy: 0.3229\n",
      "Epoch 5/18\n",
      "51/51 [==============================] - 9s 184ms/step - loss: 0.0689 - accuracy: 0.5390 - val_loss: 0.1084 - val_accuracy: 0.2833\n",
      "Epoch 6/18\n",
      "51/51 [==============================] - 9s 183ms/step - loss: 0.0584 - accuracy: 0.6182 - val_loss: 0.0975 - val_accuracy: 0.3583\n",
      "Epoch 7/18\n",
      "51/51 [==============================] - 10s 185ms/step - loss: 0.0484 - accuracy: 0.6974 - val_loss: 0.0758 - val_accuracy: 0.5188\n",
      "Epoch 8/18\n",
      "51/51 [==============================] - 9s 183ms/step - loss: 0.0434 - accuracy: 0.7373 - val_loss: 0.0797 - val_accuracy: 0.4500\n",
      "Epoch 9/18\n",
      "51/51 [==============================] - 9s 185ms/step - loss: 0.0371 - accuracy: 0.7802 - val_loss: 0.0766 - val_accuracy: 0.5396\n",
      "Epoch 10/18\n",
      "51/51 [==============================] - 9s 185ms/step - loss: 0.0322 - accuracy: 0.8165 - val_loss: 0.0706 - val_accuracy: 0.5708\n",
      "Epoch 11/18\n",
      "51/51 [==============================] - 9s 184ms/step - loss: 0.0280 - accuracy: 0.8453 - val_loss: 0.0586 - val_accuracy: 0.6333\n",
      "Epoch 12/18\n",
      "51/51 [==============================] - 9s 184ms/step - loss: 0.0260 - accuracy: 0.8607 - val_loss: 0.0680 - val_accuracy: 0.6458\n",
      "Epoch 13/18\n",
      "51/51 [==============================] - 9s 184ms/step - loss: 0.0223 - accuracy: 0.8785 - val_loss: 0.0643 - val_accuracy: 0.6583\n",
      "Epoch 14/18\n",
      "51/51 [==============================] - 9s 184ms/step - loss: 0.0206 - accuracy: 0.8883 - val_loss: 0.0573 - val_accuracy: 0.7167\n",
      "Epoch 15/18\n",
      "51/51 [==============================] - 10s 186ms/step - loss: 0.0189 - accuracy: 0.8975 - val_loss: 0.0589 - val_accuracy: 0.7083\n",
      "Epoch 16/18\n",
      "51/51 [==============================] - 10s 186ms/step - loss: 0.0178 - accuracy: 0.8932 - val_loss: 0.0612 - val_accuracy: 0.6854\n",
      "Epoch 17/18\n",
      "51/51 [==============================] - 10s 186ms/step - loss: 0.0158 - accuracy: 0.9147 - val_loss: 0.0641 - val_accuracy: 0.7312\n",
      "Epoch 18/18\n",
      "51/51 [==============================] - 10s 186ms/step - loss: 0.0148 - accuracy: 0.9276 - val_loss: 0.0741 - val_accuracy: 0.7021\n",
      "###### Total Time Taken:  3 Minutes ######\n"
     ]
    }
   ],
   "source": [
    "from keras.models import Sequential\n",
    "from keras.layers import Convolution2D\n",
    "from keras.layers import MaxPool2D\n",
    "from keras.layers import Flatten\n",
    "from keras.layers import Dense, Dropout\n",
    "\n",
    "model= Sequential()\n",
    "\n",
    "model.add(Convolution2D(32, kernel_size=(5, 5), strides=(1, 1), input_shape=(64,64,3), activation='relu'))\n",
    "model.add(MaxPool2D(pool_size=(2,2)))\n",
    "model.add(Convolution2D(32, kernel_size=(4, 4), strides=(1, 1), activation='relu'))\n",
    "\n",
    "model.add(MaxPool2D(pool_size=(2,2)))\n",
    "\n",
    "model.add(Convolution2D(32, kernel_size=(3, 3), activation='relu'))\n",
    "model.add(MaxPool2D(pool_size=(2,2)))\n",
    "model.add(Flatten())\n",
    "model.add(Dense(64, activation='relu'))\n",
    "model.add(Dense(OutputNeurons, activation='softmax'))\n",
    "\n",
    "model.compile(loss='binary_crossentropy', optimizer = 'rmsprop', metrics=[\"accuracy\"])\n",
    "\n",
    "import time\n",
    "# Measuring the time taken by the model to train\n",
    "StartTime=time.time()\n",
    "\n",
    "# Starting the model training\n",
    "model.fit_generator(\n",
    "                    training_set,\n",
    "                    steps_per_epoch=51,\n",
    "                    epochs=18,\n",
    "                    validation_data=test_set,\n",
    "                    validation_steps=15)\n",
    "\n",
    "EndTime=time.time()\n",
    "print(\"###### Total Time Taken: \", round((EndTime-StartTime)/60), 'Minutes ######')"
   ]
  },
  {
   "cell_type": "code",
   "execution_count": 8,
   "id": "841f17e7",
   "metadata": {},
   "outputs": [
    {
     "name": "stdout",
     "output_type": "stream",
     "text": [
      "Model: \"sequential\"\n",
      "_________________________________________________________________\n",
      " Layer (type)                Output Shape              Param #   \n",
      "=================================================================\n",
      " conv2d (Conv2D)             (None, 62, 62, 32)        896       \n",
      "                                                                 \n",
      " max_pooling2d (MaxPooling2D  (None, 31, 31, 32)       0         \n",
      " )                                                               \n",
      "                                                                 \n",
      " conv2d_1 (Conv2D)           (None, 29, 29, 64)        18496     \n",
      "                                                                 \n",
      " conv2d_2 (Conv2D)           (None, 27, 27, 64)        36928     \n",
      "                                                                 \n",
      " max_pooling2d_1 (MaxPooling  (None, 13, 13, 64)       0         \n",
      " 2D)                                                             \n",
      "                                                                 \n",
      " conv2d_3 (Conv2D)           (None, 11, 11, 128)       73856     \n",
      "                                                                 \n",
      " max_pooling2d_2 (MaxPooling  (None, 5, 5, 128)        0         \n",
      " 2D)                                                             \n",
      "                                                                 \n",
      " flatten (Flatten)           (None, 3200)              0         \n",
      "                                                                 \n",
      " dense (Dense)               (None, 128)               409728    \n",
      "                                                                 \n",
      " dense_1 (Dense)             (None, 64)                8256      \n",
      "                                                                 \n",
      " dense_2 (Dense)             (None, 42)                2730      \n",
      "                                                                 \n",
      "=================================================================\n",
      "Total params: 550,890\n",
      "Trainable params: 550,890\n",
      "Non-trainable params: 0\n",
      "_________________________________________________________________\n"
     ]
    }
   ],
   "source": [
    "model.summary()"
   ]
  },
  {
   "cell_type": "code",
   "execution_count": 4,
   "id": "225826e7",
   "metadata": {},
   "outputs": [
    {
     "name": "stderr",
     "output_type": "stream",
     "text": [
      "C:\\Users\\N00180~1\\AppData\\Local\\Temp/ipykernel_19240/2381697565.py:30: UserWarning: `Model.fit_generator` is deprecated and will be removed in a future version. Please use `Model.fit`, which supports generators.\n",
      "  model.fit_generator(\n"
     ]
    },
    {
     "name": "stdout",
     "output_type": "stream",
     "text": [
      "Epoch 1/20\n",
      "57/57 [==============================] - 14s 236ms/step - loss: 5.5586 - accuracy: 0.0643 - val_loss: 3.4167 - val_accuracy: 0.0437\n",
      "Epoch 2/20\n",
      "57/57 [==============================] - 14s 239ms/step - loss: 2.7814 - accuracy: 0.2433 - val_loss: 2.7182 - val_accuracy: 0.2844\n",
      "Epoch 3/20\n",
      "57/57 [==============================] - 14s 241ms/step - loss: 1.6235 - accuracy: 0.5662 - val_loss: 2.0359 - val_accuracy: 0.4688\n",
      "Epoch 4/20\n",
      "57/57 [==============================] - 14s 241ms/step - loss: 1.0615 - accuracy: 0.7073 - val_loss: 1.8682 - val_accuracy: 0.4938\n",
      "Epoch 5/20\n",
      "57/57 [==============================] - 14s 237ms/step - loss: 0.7365 - accuracy: 0.8007 - val_loss: 1.5720 - val_accuracy: 0.6250\n",
      "Epoch 6/20\n",
      "57/57 [==============================] - 14s 242ms/step - loss: 0.6136 - accuracy: 0.8276 - val_loss: 1.5267 - val_accuracy: 0.6625\n",
      "Epoch 7/20\n",
      "57/57 [==============================] - 14s 248ms/step - loss: 0.4876 - accuracy: 0.8627 - val_loss: 1.2558 - val_accuracy: 0.6625\n",
      "Epoch 8/20\n",
      "57/57 [==============================] - 15s 261ms/step - loss: 0.3960 - accuracy: 0.8836 - val_loss: 1.4103 - val_accuracy: 0.6656\n",
      "Epoch 9/20\n",
      "57/57 [==============================] - 15s 255ms/step - loss: 0.3482 - accuracy: 0.8907 - val_loss: 1.2235 - val_accuracy: 0.7063\n",
      "Epoch 10/20\n",
      "57/57 [==============================] - 15s 259ms/step - loss: 0.2996 - accuracy: 0.9088 - val_loss: 1.3155 - val_accuracy: 0.7156\n",
      "Epoch 11/20\n",
      "57/57 [==============================] - 15s 262ms/step - loss: 0.2326 - accuracy: 0.9308 - val_loss: 1.2395 - val_accuracy: 0.7375\n",
      "Epoch 12/20\n",
      "57/57 [==============================] - 15s 260ms/step - loss: 0.2267 - accuracy: 0.9286 - val_loss: 1.0891 - val_accuracy: 0.7656\n",
      "Epoch 13/20\n",
      "57/57 [==============================] - 14s 251ms/step - loss: 0.1587 - accuracy: 0.9561 - val_loss: 1.4887 - val_accuracy: 0.7469\n",
      "Epoch 14/20\n",
      "57/57 [==============================] - 15s 254ms/step - loss: 0.1785 - accuracy: 0.9374 - val_loss: 1.4429 - val_accuracy: 0.6812\n",
      "Epoch 15/20\n",
      "57/57 [==============================] - 14s 252ms/step - loss: 0.2340 - accuracy: 0.9242 - val_loss: 1.6265 - val_accuracy: 0.7281\n",
      "Epoch 16/20\n",
      "57/57 [==============================] - 15s 257ms/step - loss: 0.1312 - accuracy: 0.9627 - val_loss: 0.8387 - val_accuracy: 0.8438\n",
      "Epoch 17/20\n",
      "57/57 [==============================] - 14s 238ms/step - loss: 0.1953 - accuracy: 0.9379 - val_loss: 1.1420 - val_accuracy: 0.7531\n",
      "Epoch 18/20\n",
      "57/57 [==============================] - 14s 251ms/step - loss: 0.1111 - accuracy: 0.9638 - val_loss: 1.2371 - val_accuracy: 0.8188\n",
      "Epoch 19/20\n",
      "57/57 [==============================] - 14s 244ms/step - loss: 0.0884 - accuracy: 0.9714 - val_loss: 1.0434 - val_accuracy: 0.8375\n",
      "Epoch 20/20\n",
      "57/57 [==============================] - 14s 242ms/step - loss: 0.0732 - accuracy: 0.9747 - val_loss: 1.3520 - val_accuracy: 0.8188\n",
      "###### Total Time Taken:  5 Minutes ######\n"
     ]
    }
   ],
   "source": [
    "from keras.models import Sequential\n",
    "from keras.layers import Convolution2D\n",
    "from keras.layers import MaxPool2D\n",
    "from keras.layers import Flatten\n",
    "from keras.layers import Dense, Dropout\n",
    "\n",
    "model= Sequential()\n",
    "\n",
    "model.add(Convolution2D(32, kernel_size=(3, 3), strides=(1, 1), input_shape=(64,64,3), activation='relu'))\n",
    "model.add(MaxPool2D(pool_size=(2,2)))\n",
    "model.add(Convolution2D(64, kernel_size=(3, 3), strides=(1, 1), activation='relu'))\n",
    "model.add(Convolution2D(64, kernel_size=(3, 3), strides=(1, 1), activation='relu'))\n",
    "\n",
    "model.add(MaxPool2D(pool_size=(2,2)))\n",
    "model.add(Convolution2D(128, kernel_size=(3, 3), strides=(1, 1), activation='relu'))\n",
    "\n",
    "model.add(MaxPool2D(pool_size=(2,2)))\n",
    "model.add(Flatten())\n",
    "model.add(Dense(128, activation='relu'))\n",
    "model.add(Dense(64, activation='relu'))\n",
    "model.add(Dense(OutputNeurons, activation='softmax'))\n",
    "\n",
    "model.compile(loss='categorical_crossentropy', optimizer = 'adam', metrics=[\"accuracy\"])\n",
    "\n",
    "import time\n",
    "# Measuring the time taken by the model to train\n",
    "StartTime=time.time()\n",
    "\n",
    "# Starting the model training\n",
    "model.fit_generator(\n",
    "                    training_set,\n",
    "                    steps_per_epoch=57,\n",
    "                    epochs=20,\n",
    "                    validation_data=test_set,\n",
    "                    validation_steps=10)\n",
    "\n",
    "EndTime=time.time()\n",
    "print(\"###### Total Time Taken: \", round((EndTime-StartTime)/60), 'Minutes ######')"
   ]
  },
  {
   "cell_type": "code",
   "execution_count": 5,
   "id": "a15a8412",
   "metadata": {},
   "outputs": [
    {
     "name": "stdout",
     "output_type": "stream",
     "text": [
      "Model: \"sequential\"\n",
      "_________________________________________________________________\n",
      " Layer (type)                Output Shape              Param #   \n",
      "=================================================================\n",
      " conv2d (Conv2D)             (None, 62, 62, 32)        896       \n",
      "                                                                 \n",
      " max_pooling2d (MaxPooling2D  (None, 31, 31, 32)       0         \n",
      " )                                                               \n",
      "                                                                 \n",
      " conv2d_1 (Conv2D)           (None, 29, 29, 64)        18496     \n",
      "                                                                 \n",
      " conv2d_2 (Conv2D)           (None, 27, 27, 64)        36928     \n",
      "                                                                 \n",
      " max_pooling2d_1 (MaxPooling  (None, 13, 13, 64)       0         \n",
      " 2D)                                                             \n",
      "                                                                 \n",
      " conv2d_3 (Conv2D)           (None, 11, 11, 128)       73856     \n",
      "                                                                 \n",
      " max_pooling2d_2 (MaxPooling  (None, 5, 5, 128)        0         \n",
      " 2D)                                                             \n",
      "                                                                 \n",
      " flatten (Flatten)           (None, 3200)              0         \n",
      "                                                                 \n",
      " dense (Dense)               (None, 128)               409728    \n",
      "                                                                 \n",
      " dense_1 (Dense)             (None, 64)                8256      \n",
      "                                                                 \n",
      " dense_2 (Dense)             (None, 42)                2730      \n",
      "                                                                 \n",
      "=================================================================\n",
      "Total params: 550,890\n",
      "Trainable params: 550,890\n",
      "Non-trainable params: 0\n",
      "_________________________________________________________________\n"
     ]
    }
   ],
   "source": [
    "model.summary()"
   ]
  },
  {
   "cell_type": "code",
   "execution_count": 11,
   "id": "f2cb08f3",
   "metadata": {},
   "outputs": [
    {
     "name": "stdout",
     "output_type": "stream",
     "text": [
      "Epoch 1/18\n"
     ]
    },
    {
     "name": "stderr",
     "output_type": "stream",
     "text": [
      "C:\\Users\\N00180~1\\AppData\\Local\\Temp/ipykernel_19240/324203942.py:26: UserWarning: `Model.fit_generator` is deprecated and will be removed in a future version. Please use `Model.fit`, which supports generators.\n",
      "  model.fit_generator(\n"
     ]
    },
    {
     "name": "stdout",
     "output_type": "stream",
     "text": [
      "51/51 [==============================] - 13s 254ms/step - loss: 10.6259 - accuracy: 0.1344 - val_loss: 3.5249 - val_accuracy: 0.1167\n",
      "Epoch 2/18\n",
      "51/51 [==============================] - 11s 217ms/step - loss: 2.4066 - accuracy: 0.3947 - val_loss: 2.6151 - val_accuracy: 0.3333\n",
      "Epoch 3/18\n",
      "51/51 [==============================] - 11s 215ms/step - loss: 1.4151 - accuracy: 0.6372 - val_loss: 2.4719 - val_accuracy: 0.4125\n",
      "Epoch 4/18\n",
      "51/51 [==============================] - 11s 215ms/step - loss: 1.0200 - accuracy: 0.7311 - val_loss: 2.2673 - val_accuracy: 0.4854\n",
      "Epoch 5/18\n",
      "51/51 [==============================] - 11s 209ms/step - loss: 0.7289 - accuracy: 0.8005 - val_loss: 2.4901 - val_accuracy: 0.5167\n",
      "Epoch 6/18\n",
      "51/51 [==============================] - 11s 214ms/step - loss: 0.7110 - accuracy: 0.8060 - val_loss: 2.6664 - val_accuracy: 0.4938\n",
      "Epoch 7/18\n",
      "51/51 [==============================] - 11s 210ms/step - loss: 0.6866 - accuracy: 0.8171 - val_loss: 2.2605 - val_accuracy: 0.5417\n",
      "Epoch 8/18\n",
      "51/51 [==============================] - 11s 213ms/step - loss: 0.5254 - accuracy: 0.8508 - val_loss: 2.5098 - val_accuracy: 0.5229\n",
      "Epoch 9/18\n",
      "51/51 [==============================] - 11s 208ms/step - loss: 0.4778 - accuracy: 0.8735 - val_loss: 1.9985 - val_accuracy: 0.5792\n",
      "Epoch 10/18\n",
      "51/51 [==============================] - 11s 210ms/step - loss: 0.3789 - accuracy: 0.8901 - val_loss: 2.2985 - val_accuracy: 0.5917\n",
      "Epoch 11/18\n",
      "51/51 [==============================] - 11s 209ms/step - loss: 0.3396 - accuracy: 0.9048 - val_loss: 2.1716 - val_accuracy: 0.5938\n",
      "Epoch 12/18\n",
      "51/51 [==============================] - 11s 210ms/step - loss: 0.2931 - accuracy: 0.9147 - val_loss: 2.5246 - val_accuracy: 0.5896\n",
      "Epoch 13/18\n",
      "51/51 [==============================] - 11s 209ms/step - loss: 0.2839 - accuracy: 0.9116 - val_loss: 2.1514 - val_accuracy: 0.6229\n",
      "Epoch 14/18\n",
      "51/51 [==============================] - 10s 204ms/step - loss: 0.2508 - accuracy: 0.9227 - val_loss: 2.6798 - val_accuracy: 0.6417\n",
      "Epoch 15/18\n",
      "51/51 [==============================] - 11s 205ms/step - loss: 0.2427 - accuracy: 0.9343 - val_loss: 2.7561 - val_accuracy: 0.6562\n",
      "Epoch 16/18\n",
      "51/51 [==============================] - 11s 210ms/step - loss: 0.2502 - accuracy: 0.9245 - val_loss: 2.5036 - val_accuracy: 0.6396\n",
      "Epoch 17/18\n",
      "51/51 [==============================] - 11s 215ms/step - loss: 0.2033 - accuracy: 0.9368 - val_loss: 2.9828 - val_accuracy: 0.6354\n",
      "Epoch 18/18\n",
      "51/51 [==============================] - 11s 213ms/step - loss: 0.1961 - accuracy: 0.9392 - val_loss: 2.3459 - val_accuracy: 0.6708\n",
      "###### Total Time Taken:  3 Minutes ######\n"
     ]
    }
   ],
   "source": [
    "\n",
    "from keras.layers import Convolution2D\n",
    "from keras.layers import MaxPool2D\n",
    "from keras.layers import Flatten\n",
    "from keras.layers import Dense, Dropout\n",
    "\n",
    "model= Sequential()\n",
    "\n",
    "model.add(Convolution2D(32, \n",
    "                        kernel_size=(5, 5), \n",
    "                        strides=(1, 1), \n",
    "                        input_shape=(64,64,3), \n",
    "                        activation='relu')\n",
    "         )\n",
    "\n",
    "model.add(MaxPool2D(pool_size=(2,2)))\n",
    "\n",
    "model.add(Convolution2D(64, \n",
    "                        kernel_size=(5, 5), \n",
    "                        strides=(1, 1), \n",
    "                        activation='relu')\n",
    "         )\n",
    "\n",
    "\n",
    "model.add(MaxPool2D(pool_size=(2,2)))\n",
    "\n",
    "model.add(Flatten())\n",
    "\n",
    "model.add(Dense(64, activation='relu'))\n",
    "model.add(Dense(OutputNeurons, activation='softmax'))\n",
    "\n",
    "model.compile(loss='categorical_crossentropy', optimizer = 'adam', metrics=[\"accuracy\"])\n",
    "\n",
    "import time\n",
    "# Measuring the time taken by the model to train\n",
    "StartTime=time.time()\n",
    "\n",
    "# Starting the model training\n",
    "model.fit_generator(\n",
    "                    training_set,\n",
    "                    steps_per_epoch=51,\n",
    "                    epochs=18,\n",
    "                    validation_data=test_set,\n",
    "                    validation_steps=15)\n",
    "\n",
    "EndTime=time.time()\n",
    "print(\"###### Total Time Taken: \", round((EndTime-StartTime)/60), 'Minutes ######')"
   ]
  },
  {
   "cell_type": "code",
   "execution_count": 10,
   "id": "4b5a943c",
   "metadata": {},
   "outputs": [
    {
     "name": "stdout",
     "output_type": "stream",
     "text": [
      "Model: \"sequential_1\"\n",
      "_________________________________________________________________\n",
      " Layer (type)                Output Shape              Param #   \n",
      "=================================================================\n",
      " conv2d_4 (Conv2D)           (None, 60, 60, 32)        2432      \n",
      "                                                                 \n",
      " max_pooling2d_3 (MaxPooling  (None, 30, 30, 32)       0         \n",
      " 2D)                                                             \n",
      "                                                                 \n",
      " conv2d_5 (Conv2D)           (None, 26, 26, 64)        51264     \n",
      "                                                                 \n",
      " max_pooling2d_4 (MaxPooling  (None, 13, 13, 64)       0         \n",
      " 2D)                                                             \n",
      "                                                                 \n",
      " flatten_1 (Flatten)         (None, 10816)             0         \n",
      "                                                                 \n",
      " dense_3 (Dense)             (None, 64)                692288    \n",
      "                                                                 \n",
      " dense_4 (Dense)             (None, 42)                2730      \n",
      "                                                                 \n",
      "=================================================================\n",
      "Total params: 748,714\n",
      "Trainable params: 748,714\n",
      "Non-trainable params: 0\n",
      "_________________________________________________________________\n"
     ]
    }
   ],
   "source": [
    "model.summary()"
   ]
  },
  {
   "cell_type": "code",
   "execution_count": null,
   "id": "a72ccf8a",
   "metadata": {},
   "outputs": [],
   "source": []
  }
 ],
 "metadata": {
  "kernelspec": {
   "display_name": "Python 3 (ipykernel)",
   "language": "python",
   "name": "python3"
  },
  "language_info": {
   "codemirror_mode": {
    "name": "ipython",
    "version": 3
   },
   "file_extension": ".py",
   "mimetype": "text/x-python",
   "name": "python",
   "nbconvert_exporter": "python",
   "pygments_lexer": "ipython3",
   "version": "3.8.8"
  }
 },
 "nbformat": 4,
 "nbformat_minor": 5
}
